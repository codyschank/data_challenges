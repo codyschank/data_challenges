{
 "cells": [
  {
   "cell_type": "markdown",
   "metadata": {},
   "source": [
    "We got employee data from a few companies. We have data about all employees who joined from 2011/01/24 to 2015/12/13. For each employee, we also know if they are still at the company as of 2015/12/13 or they have quit. Beside that, we have general info about the employee, such as average salary during her tenure, department, and years of experience. As said above, the goal is to predict employee retention and understand its main drivers.\n",
    "\n",
    "All data challenges should involve:\n",
    "1. Loading and inspecting the data\n",
    "2. Model formulation, validation, comparison and selection\n",
    "3. Recommendations\n",
    "\n",
    "Hints:\n",
    "1. What are the main factors that drive employee churn? Do they make sense? Explain your findings?\n",
    "2. What might you be able to do for the company to address employee Churn, what would be follow-up actions?\n",
    "3. If you could add to this data set just one variable that could help explain employee churn, what would that be?\n",
    "4. Your output should be in the form a a jupyter notebook and pdf output of a jupyter notebook in which you specify your results and how you got them.\n",
    "\n",
    "Columns:\n",
    "1. employee_id : id of the employee. Unique by employee per company \n",
    "2. company_id : company id. \n",
    "3. dept : employee department \n",
    "4. seniority : number of yrs of work experience when hired \n",
    "5. salary: average yearly salary of the employee during her tenure within the company \n",
    "6. join_date: when the employee joined the company, it can only be between 2011/01/24 and 2015/12/13 \n",
    "7. quit_date: when the employee left her job (if she is still employed as of 2015/12/13, this field is NA)"
   ]
  },
  {
   "cell_type": "markdown",
   "metadata": {},
   "source": [
    "My hypotheses/ questions:\n",
    "1. Lower seniority and lower salary employees are more likely to leave (less motivation to stay)\n",
    "2. Is there significant variation between companies?\n",
    "\n",
    "First thoughts on modeling algorithm:\n",
    "1. Generalized Linear Mixed‐effects Model (GLMM), y = left_company, x = seniority, salary, groups = dept, company_id\n",
    "\n",
    "Other people used:\n",
    "1. Random Forest\n",
    "2. Survival Analysis\n",
    "\n",
    "Survival Analysis appears to be the best method for churn analysis. Could also do binary classifier of some sort, but that seems like a supplementary analysis (including RF, GLM, or GLMM)."
   ]
  },
  {
   "cell_type": "code",
   "execution_count": 1,
   "metadata": {},
   "outputs": [],
   "source": [
    "import pandas as pd\n",
    "import matplotlib.pyplot as plt\n",
    "import numpy as np\n",
    "\n",
    "from datetime import datetime\n",
    "from lifelines import KaplanMeierFitter\n",
    "from lifelines import CoxPHFitter\n",
    "\n",
    "%matplotlib inline\n",
    "pd.options.mode.chained_assignment = None  "
   ]
  },
  {
   "cell_type": "code",
   "execution_count": 3,
   "metadata": {},
   "outputs": [],
   "source": [
    "employee_retention =  pd.read_csv(\"./data/employee_retention.csv\")"
   ]
  },
  {
   "cell_type": "code",
   "execution_count": 4,
   "metadata": {},
   "outputs": [],
   "source": [
    "employee_retention = employee_retention.drop(columns='Unnamed: 0')"
   ]
  },
  {
   "cell_type": "code",
   "execution_count": 5,
   "metadata": {},
   "outputs": [],
   "source": [
    "#employee_retention.head()\n",
    "#employee_retention.dtypes\n",
    "#employee_retention.isnull().sum()\n",
    "#_ = [print(employee_retention[col].describe()) for col in employee_retention]\n",
    "#_ = [print(employee_retention[col].nunique()) for col in employee_retention]"
   ]
  },
  {
   "cell_type": "markdown",
   "metadata": {},
   "source": [
    "We have about 34702 rows. All are unique employees (according to ID), 12 companies, 7 departments, 32 seniority levels (mostly up to about 30, though range up to 99), Salaries ranging from 5000 to 408000 (240 missing data), join dates, and quit dates (lots of null, but that's ok).\n",
    "\n",
    "Check join dates and quit dates.\n",
    "Remove rows with missing salaries? Or impute?\n",
    "What to do about seniority levels?"
   ]
  },
  {
   "cell_type": "code",
   "execution_count": 6,
   "metadata": {},
   "outputs": [
    {
     "data": {
      "text/plain": [
       "<Figure size 432x288 with 0 Axes>"
      ]
     },
     "metadata": {},
     "output_type": "display_data"
    }
   ],
   "source": [
    "plt.figure()\n",
    "plt.clf()\n",
    "#_ = employee_retention.hist(column=['seniority','salary'] ,figsize=(6,6))"
   ]
  },
  {
   "cell_type": "code",
   "execution_count": 7,
   "metadata": {},
   "outputs": [],
   "source": [
    "#employee_retention.seniority.sort_values().tail()\n",
    "# get rid of 98 and 99, could set this threshold to another more general (and still possible) value, like....50?\n",
    "employee_retention.loc[employee_retention.seniority > 29,'seniority'] = np.nan"
   ]
  },
  {
   "cell_type": "code",
   "execution_count": 8,
   "metadata": {},
   "outputs": [],
   "source": [
    "# remove rows with NA for salary\n",
    "employee_retention = employee_retention.loc[employee_retention.salary.notnull()]\n",
    "employee_retention = employee_retention.loc[employee_retention.seniority.notnull()]"
   ]
  },
  {
   "cell_type": "code",
   "execution_count": 9,
   "metadata": {},
   "outputs": [
    {
     "data": {
      "image/png": "[encoded data removed]",
      "text/plain": [
       "<Figure size 432x288 with 1 Axes>"
      ]
     },
     "metadata": {},
     "output_type": "display_data"
    }
   ],
   "source": [
    "_ = pd.value_counts(employee_retention['dept']).plot.bar()"
   ]
  },
  {
   "cell_type": "code",
   "execution_count": 10,
   "metadata": {},
   "outputs": [],
   "source": [
    "# clean up join_date field\n",
    "employee_retention.join_date = employee_retention.join_date.str.split('.').apply(lambda x: '-'.join(x[-1:] + x[:-1]))\n",
    "employee_retention['join_date'] =  pd.to_datetime(employee_retention['join_date'], format='%Y-%m-%d')\n",
    "employee_retention['quit_date'] =  pd.to_datetime(employee_retention['quit_date'], format='%Y-%m-%d')\n",
    "employee_retention['left_company'] = 1\n",
    "employee_retention.loc[employee_retention.quit_date.isnull(),'left_company'] = 0\n",
    "#_ = employee_retention.left_company.plot.hist()"
   ]
  },
  {
   "cell_type": "code",
   "execution_count": 11,
   "metadata": {},
   "outputs": [],
   "source": [
    "# calculate days worked for those who left\n",
    "employee_retention['days_worked'] = (employee_retention.quit_date - employee_retention.join_date).astype('timedelta64[D]')"
   ]
  },
  {
   "cell_type": "code",
   "execution_count": 12,
   "metadata": {},
   "outputs": [],
   "source": [
    "# calculate days worked for those who haven't left yet\n",
    "employee_retention.loc[employee_retention.days_worked.isnull(),'days_worked'] = (datetime.strptime('2015-12-13', '%Y-%m-%d') - employee_retention.join_date).astype('timedelta64[D]')"
   ]
  },
  {
   "cell_type": "code",
   "execution_count": 13,
   "metadata": {},
   "outputs": [
    {
     "data": {
      "image/png": "[encoded data removed]",
      "text/plain": [
       "<Figure size 432x288 with 1 Axes>"
      ]
     },
     "metadata": {},
     "output_type": "display_data"
    }
   ],
   "source": [
    "_ = employee_retention.join_date.groupby(employee_retention[\"join_date\"].dt.year).count().plot(kind=\"bar\")"
   ]
  },
  {
   "cell_type": "code",
   "execution_count": 14,
   "metadata": {},
   "outputs": [
    {
     "data": {
      "text/plain": [
       "10000"
      ]
     },
     "execution_count": 14,
     "metadata": {},
     "output_type": "execute_result"
    }
   ],
   "source": [
    "# there are 10000 dates before 2011\n",
    "# drop these?\n",
    "# I don't need start date to know that someone left the company\n",
    "# it is only useful if I want to know how long they were there, and anyways it's hard to really use that information\n",
    "# because I don't know how long employees were at the company before 2011\n",
    "# so I can just leave those rows in, until I decide how to use the time at company\n",
    "sum(employee_retention[\"join_date\"].dt.year < 2011)"
   ]
  },
  {
   "cell_type": "code",
   "execution_count": 15,
   "metadata": {},
   "outputs": [
    {
     "data": {
      "text/plain": [
       "array(['temp_contractor'], dtype=object)"
      ]
     },
     "execution_count": 15,
     "metadata": {},
     "output_type": "execute_result"
    }
   ],
   "source": [
    "# apparently all 10000 of these rows are temporary contractors on 90 days contracts, we can throw them out\n",
    "employee_retention.loc[employee_retention[\"join_date\"].dt.year < 2011].dept.unique()"
   ]
  },
  {
   "cell_type": "code",
   "execution_count": 16,
   "metadata": {},
   "outputs": [],
   "source": [
    "employee_retention = employee_retention.loc[employee_retention[\"join_date\"].dt.year >= 2011]"
   ]
  },
  {
   "cell_type": "code",
   "execution_count": 17,
   "metadata": {},
   "outputs": [
    {
     "data": {
      "text/plain": [
       "<matplotlib.axes._subplots.AxesSubplot at 0x10f062208>"
      ]
     },
     "execution_count": 17,
     "metadata": {},
     "output_type": "execute_result"
    },
    {
     "data": {
      "image/png": "[encoded data removed]",
      "text/plain": [
       "<Figure size 432x288 with 1 Axes>"
      ]
     },
     "metadata": {},
     "output_type": "display_data"
    }
   ],
   "source": [
    "# as Mike noted, there is a spike around 1 and 2 years (less so)\n",
    "employee_retention['days_worked'].hist(bins=100)"
   ]
  },
  {
   "cell_type": "code",
   "execution_count": 18,
   "metadata": {},
   "outputs": [],
   "source": [
    "# select data for which we have at least two years run time\n",
    "# coyld use this in a logistic regression (preferably mixed-effects)\n",
    "employee_retention_select = employee_retention.loc[employee_retention.join_date < datetime.strptime('2013-12-13', '%Y-%m-%d')]\n",
    "employee_retention_select['worked_2_years'] = 0\n",
    "employee_retention_select['worked_2_years'] = (employee_retention_select['days_worked'] > 730).astype(int)"
   ]
  },
  {
   "cell_type": "markdown",
   "metadata": {},
   "source": [
    "## Survival Analysis"
   ]
  },
  {
   "cell_type": "code",
   "execution_count": 19,
   "metadata": {},
   "outputs": [
    {
     "data": {
      "text/plain": [
       "<lifelines.KaplanMeierFitter: fitted with 24461 observations, 11084 censored>"
      ]
     },
     "execution_count": 19,
     "metadata": {},
     "output_type": "execute_result"
    }
   ],
   "source": [
    "# Survival analysis\n",
    "kmf = KaplanMeierFitter()\n",
    "\n",
    "kmf.fit(employee_retention.days_worked, event_observed=employee_retention.left_company)"
   ]
  },
  {
   "cell_type": "code",
   "execution_count": 20,
   "metadata": {},
   "outputs": [
    {
     "data": {
      "text/plain": [
       "<matplotlib.axes._subplots.AxesSubplot at 0x1a2018f198>"
      ]
     },
     "execution_count": 20,
     "metadata": {},
     "output_type": "execute_result"
    },
    {
     "data": {
      "image/png": "[encoded data removed]",
      "text/plain": [
       "<Figure size 432x288 with 1 Axes>"
      ]
     },
     "metadata": {},
     "output_type": "display_data"
    }
   ],
   "source": [
    "kmf.plot(title='Time to Churn (in days)')"
   ]
  },
  {
   "cell_type": "code",
   "execution_count": 21,
   "metadata": {},
   "outputs": [
    {
     "name": "stdout",
     "output_type": "stream",
     "text": [
      "732.0\n",
      "0.816279005742281\n",
      "0.5042462153206106\n",
      "0.2946060768223561\n"
     ]
    }
   ],
   "source": [
    "print(kmf.median_)\n",
    "print(kmf.survival_function_.KM_estimate[1*365])\n",
    "print(kmf.survival_function_.KM_estimate[2*365])\n",
    "print(kmf.survival_function_.KM_estimate[3*365])"
   ]
  },
  {
   "cell_type": "code",
   "execution_count": 22,
   "metadata": {},
   "outputs": [],
   "source": [
    "# Then can create separate classes for high medium and low salary, and do separate model fits.\n",
    "# can't just throw those variables into the model?\n",
    "# read this https://lifelines.readthedocs.io/en/latest/Survival%20Analysis%20intro.html\n",
    "# why months employed vs days employed\n",
    "# Che used a Cox Proportional Hazards to include covariate effects"
   ]
  },
  {
   "cell_type": "code",
   "execution_count": 23,
   "metadata": {},
   "outputs": [
    {
     "name": "stdout",
     "output_type": "stream",
     "text": [
      "n=24461, number of events=13377\n",
      "\n",
      "             coef  exp(coef)  se(coef)        z      p  lower 0.95  upper 0.95     \n",
      "salary    -0.0000     1.0000    0.0000 -12.0957 0.0000     -0.0000     -0.0000  ***\n",
      "seniority  0.0095     1.0095    0.0013   7.2538 0.0000      0.0069      0.0120  ***\n",
      "---\n",
      "Signif. codes:  0 '***' 0.001 '**' 0.01 '*' 0.05 '.' 0.1 ' ' 1 \n",
      "\n",
      "Concordance = 0.530\n",
      "Likelihood ratio test = 149.656 on 2 df, p=0.00000\n"
     ]
    }
   ],
   "source": [
    "coxph = CoxPHFitter()\n",
    "coxph.fit(employee_retention[['left_company','days_worked','salary','seniority']], duration_col='days_worked', event_col='left_company')\n",
    "\n",
    "coxph.print_summary()  # access the results using cph.summary"
   ]
  },
  {
   "cell_type": "code",
   "execution_count": 24,
   "metadata": {},
   "outputs": [],
   "source": [
    "# add dummy variables for company and dept? Or is there some way to use these as groups?\n",
    "# what's the best way to include and interpret variables in a Cox Proportional Hazards test. \n",
    "# https://www.stat.ubc.ca/~rollin/teach/643w04/lec/node69.html"
   ]
  }
 ],
 "metadata": {
  "kernelspec": {
   "display_name": "Python 3",
   "language": "python",
   "name": "python3"
  },
  "language_info": {
   "codemirror_mode": {
    "name": "ipython",
    "version": 3
   },
   "file_extension": ".py",
   "mimetype": "text/x-python",
   "name": "python",
   "nbconvert_exporter": "python",
   "pygments_lexer": "ipython3",
   "version": "3.6.5"
  }
 },
 "nbformat": 4,
 "nbformat_minor": 2
}
